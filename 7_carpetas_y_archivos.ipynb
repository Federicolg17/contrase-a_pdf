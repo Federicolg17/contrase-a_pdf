{
  "nbformat": 4,
  "nbformat_minor": 0,
  "metadata": {
    "colab": {
      "provenance": [],
      "mount_file_id": "1UMOV29GwVxgj56FRMeEibcUGRf_RQb4O",
      "authorship_tag": "ABX9TyOF5oAkRADRchMh9NgH2MyA",
      "include_colab_link": true
    },
    "kernelspec": {
      "name": "python3",
      "display_name": "Python 3"
    },
    "language_info": {
      "name": "python"
    }
  },
  "cells": [
    {
      "cell_type": "markdown",
      "metadata": {
        "id": "view-in-github",
        "colab_type": "text"
      },
      "source": [
        "<a href=\"https://colab.research.google.com/github/Federicolg17/contrase-a_pdf/blob/main/7_carpetas_y_archivos.ipynb\" target=\"_parent\"><img src=\"https://colab.research.google.com/assets/colab-badge.svg\" alt=\"Open In Colab\"/></a>"
      ]
    },
    {
      "cell_type": "code",
      "execution_count": null,
      "metadata": {
        "colab": {
          "base_uri": "https://localhost:8080/"
        },
        "id": "0EjJYXOSjRBV",
        "outputId": "7d2b1814-3634-40f3-bd0e-f8a66bba6d6d"
      },
      "outputs": [
        {
          "output_type": "stream",
          "name": "stdout",
          "text": [
            "Archivo '34787_JEFFERSON DARWIN CÉSPEDES FLÓREZ  .pdf' protegido con contraseña.\n",
            "Archivo '31079_SANTIAGO CÁRDENAS LOSADA .pdf' protegido con contraseña.\n",
            "Archivo '41731_ERICK  SANABRIA JARABA .pdf' protegido con contraseña.\n",
            "Archivo '41379_LINCON STEVEN LEGUIZAMON BECERRA .pdf' protegido con contraseña.\n",
            "Archivo '31262_JOSE ALEJANDRO  HERRERA MONTAÑO.pdf' protegido con contraseña.\n",
            "Archivo '34147_JORGE ESTEBAN CÁRDENAS RESTREPO.pdf' protegido con contraseña.\n",
            "Archivo '35319_KAREN SOFIA  MORALES YATE.pdf' protegido con contraseña.\n",
            "Archivo '53647_JUAN ANDRES  HERRERA RIVERA .pdf' protegido con contraseña.\n",
            "Archivo '52177_SARA SOFÍA  VEGA PARRADO .pdf' protegido con contraseña.\n",
            "Archivo '30391_JONATHAN EDUARDO GUEVARA TULCAN .pdf' protegido con contraseña.\n",
            "Archivo '37191_NICOLÁS DAVID  MACHADO ROJAS .pdf' protegido con contraseña.\n",
            "Archivo '37658_SEBASTIAN CAMILO  RAMIREZ TORRES .pdf' protegido con contraseña.\n",
            "Archivo '53418_DAVID SANTIAGO   RINCÓN LÓPEZ .pdf' protegido con contraseña.\n",
            "Archivo '42286_JONATHAN EDUARDO  GUEVARA TULCAN .pdf' protegido con contraseña.\n",
            "Archivo '40006_VIVIÁN ANGÉLICA  RAMÍREZ MENSA .pdf' protegido con contraseña.\n",
            "Archivo '40242_DANNA GABRIELA  SOLANO FERRER.pdf' protegido con contraseña.\n",
            "Archivo '39565_LAURA SOFIA  BARON MOLINA .pdf' protegido con contraseña.\n",
            "Archivo '48977_KEVIN ALEXANDER  GUTIERREZ MALDONADO.pdf' protegido con contraseña.\n",
            "Archivo '39046_CARLOS GIOVANNI FERNANDEZ CORREA.pdf' protegido con contraseña.\n",
            "Archivo '53906_PAULA DANIELA TORRES ROBAYO.pdf' protegido con contraseña.\n",
            "Archivo '43617_NATALIA VALENTINA  LADINO BAQUERO .pdf' protegido con contraseña.\n",
            "Archivo '32441_DIEGO ALEJANDRO MARIN RODRIGUEZ.pdf' protegido con contraseña.\n",
            "Archivo '51982_JUAN DAVID HERNÁNDEZ LOAIZA.pdf' protegido con contraseña.\n",
            "Archivo '38696_LAURA VALENTINA  QUINTIN PEÑA .pdf' protegido con contraseña.\n",
            "Archivo '53365_JOSERPH JULIAN  ROMERO GONZÁLEZ .pdf' protegido con contraseña.\n",
            "Archivo '51671_ALESSANDRA CRISTINA MAMANI CARAZAS.pdf' protegido con contraseña.\n",
            "Archivo '44034_JAZBLEIDY TATIANA  DAZA LUGO.pdf' protegido con contraseña.\n",
            "Archivo '37711_ALESSANDRA CRISTINA MAMANI CARAZAS.pdf' protegido con contraseña.\n"
          ]
        }
      ],
      "source": [
        "import pikepdf\n",
        "import os\n",
        "import shutil\n",
        "\n",
        "password = \"12345\"\n",
        "pdf_folder = \"/content/drive/MyDrive/Curso automatización/2_gestión_archivos_carpetas/estudiantes_semilleros/certificados/PDF\"\n",
        "\n",
        "# Verifica si la carpeta existe\n",
        "if not os.path.exists(pdf_folder):\n",
        "    print(f\"Error: La carpeta '{pdf_folder}' no existe.\")\n",
        "else:\n",
        "    for filename in os.listdir(pdf_folder):\n",
        "        if filename.endswith(\".pdf\"):\n",
        "            filepath = os.path.join(pdf_folder, filename)\n",
        "            try:\n",
        "                # Método 1: Usar allow_overwriting_input=True\n",
        "                with pikepdf.open(filepath, allow_overwriting_input=True) as pdf:\n",
        "                    pdf.save(filepath, encryption=pikepdf.Encryption(owner=password, user=password, R=4))\n",
        "\n",
        "                # Método 2 (alternativo): Crear un archivo temporal y luego reemplazar\n",
        "                # temp_file = filepath + \".temp\"\n",
        "                # with pikepdf.Pdf.open(filepath) as pdf:\n",
        "                #     pdf.save(temp_file, encryption=pikepdf.Encryption(owner=password, user=password, R=4))\n",
        "                # shutil.move(temp_file, filepath)\n",
        "\n",
        "                print(f\"Archivo '{filename}' protegido con contraseña.\")\n",
        "            except Exception as e:\n",
        "                print(f\"Error al procesar el archivo '{filename}': {e}\")"
      ]
    }
  ]
}